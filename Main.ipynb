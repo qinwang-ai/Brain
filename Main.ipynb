{
 "cells": [
  {
   "cell_type": "code",
   "execution_count": 12,
   "metadata": {},
   "outputs": [
    {
     "name": "stdout",
     "output_type": "stream",
     "text": [
      "The autoreload extension is already loaded. To reload it, use:\n",
      "  %reload_ext autoreload\n"
     ]
    }
   ],
   "source": [
    "%load_ext autoreload\n",
    "%autoreload 2\n",
    "import os\n",
    "import sys\n",
    "import nibabel as nib\n",
    "import matplotlib.pyplot as plt\n",
    "from scipy.ndimage import zoom\n",
    "import numpy as np\n",
    "from get_min_max_voxel import summary\n",
    "from glob import glob\n",
    "import importlib\n",
    "from srgan_3d import SRGAN\n",
    "from keras.applications.resnet50 import ResNet50\n",
    "import data_loader\n",
    "from data_loader import DataLoader, test_preprocessing, show_slices"
   ]
  },
  {
   "cell_type": "code",
   "execution_count": 2,
   "metadata": {},
   "outputs": [],
   "source": [
    "trainset_path = \"trainset/**/*.nii\"\n",
    "testset_path = \"testset/**/*.nii\"\n",
    "H_R = (168, 168, 144, 1)\n",
    "L_R = (42, 168, 144, 1)\n",
    "#nii_names = list(map(lambda st:st.split('/')[-1], paths))\n",
    "#l = list(map(lambda st:print(st), nii_names))"
   ]
  },
  {
   "cell_type": "code",
   "execution_count": 3,
   "metadata": {
    "scrolled": false
   },
   "outputs": [],
   "source": [
    "gan = SRGAN(lr=L_R, hr=H_R, n_residual_blocks=4, gpus=1)"
   ]
  },
  {
   "cell_type": "code",
   "execution_count": 4,
   "metadata": {
    "scrolled": true
   },
   "outputs": [
    {
     "name": "stdout",
     "output_type": "stream",
     "text": [
      "__________________________________________________________________________________________________\n",
      "Layer (type)                    Output Shape         Param #     Connected to                     \n",
      "==================================================================================================\n",
      "input_2 (InputLayer)            (None, 42, 168, 144, 0                                            \n",
      "__________________________________________________________________________________________________\n",
      "conv3d_7 (Conv3D)               (None, 42, 168, 144, 23360       input_2[0][0]                    \n",
      "__________________________________________________________________________________________________\n",
      "activation_1 (Activation)       (None, 42, 168, 144, 0           conv3d_7[0][0]                   \n",
      "__________________________________________________________________________________________________\n",
      "conv3d_8 (Conv3D)               (None, 42, 168, 144, 27680       activation_1[0][0]               \n",
      "__________________________________________________________________________________________________\n",
      "activation_2 (Activation)       (None, 42, 168, 144, 0           conv3d_8[0][0]                   \n",
      "__________________________________________________________________________________________________\n",
      "batch_normalization_6 (BatchNor (None, 42, 168, 144, 128         activation_2[0][0]               \n",
      "__________________________________________________________________________________________________\n",
      "conv3d_9 (Conv3D)               (None, 42, 168, 144, 27680       batch_normalization_6[0][0]      \n",
      "__________________________________________________________________________________________________\n",
      "batch_normalization_7 (BatchNor (None, 42, 168, 144, 128         conv3d_9[0][0]                   \n",
      "__________________________________________________________________________________________________\n",
      "add_1 (Add)                     (None, 42, 168, 144, 0           batch_normalization_7[0][0]      \n",
      "                                                                 activation_1[0][0]               \n",
      "__________________________________________________________________________________________________\n",
      "conv3d_10 (Conv3D)              (None, 42, 168, 144, 27680       add_1[0][0]                      \n",
      "__________________________________________________________________________________________________\n",
      "activation_3 (Activation)       (None, 42, 168, 144, 0           conv3d_10[0][0]                  \n",
      "__________________________________________________________________________________________________\n",
      "batch_normalization_8 (BatchNor (None, 42, 168, 144, 128         activation_3[0][0]               \n",
      "__________________________________________________________________________________________________\n",
      "conv3d_11 (Conv3D)              (None, 42, 168, 144, 27680       batch_normalization_8[0][0]      \n",
      "__________________________________________________________________________________________________\n",
      "batch_normalization_9 (BatchNor (None, 42, 168, 144, 128         conv3d_11[0][0]                  \n",
      "__________________________________________________________________________________________________\n",
      "add_2 (Add)                     (None, 42, 168, 144, 0           batch_normalization_9[0][0]      \n",
      "                                                                 add_1[0][0]                      \n",
      "__________________________________________________________________________________________________\n",
      "conv3d_12 (Conv3D)              (None, 42, 168, 144, 27680       add_2[0][0]                      \n",
      "__________________________________________________________________________________________________\n",
      "activation_4 (Activation)       (None, 42, 168, 144, 0           conv3d_12[0][0]                  \n",
      "__________________________________________________________________________________________________\n",
      "batch_normalization_10 (BatchNo (None, 42, 168, 144, 128         activation_4[0][0]               \n",
      "__________________________________________________________________________________________________\n",
      "conv3d_13 (Conv3D)              (None, 42, 168, 144, 27680       batch_normalization_10[0][0]     \n",
      "__________________________________________________________________________________________________\n",
      "batch_normalization_11 (BatchNo (None, 42, 168, 144, 128         conv3d_13[0][0]                  \n",
      "__________________________________________________________________________________________________\n",
      "add_3 (Add)                     (None, 42, 168, 144, 0           batch_normalization_11[0][0]     \n",
      "                                                                 add_2[0][0]                      \n",
      "__________________________________________________________________________________________________\n",
      "conv3d_14 (Conv3D)              (None, 42, 168, 144, 27680       add_3[0][0]                      \n",
      "__________________________________________________________________________________________________\n",
      "activation_5 (Activation)       (None, 42, 168, 144, 0           conv3d_14[0][0]                  \n",
      "__________________________________________________________________________________________________\n",
      "batch_normalization_12 (BatchNo (None, 42, 168, 144, 128         activation_5[0][0]               \n",
      "__________________________________________________________________________________________________\n",
      "conv3d_15 (Conv3D)              (None, 42, 168, 144, 27680       batch_normalization_12[0][0]     \n",
      "__________________________________________________________________________________________________\n",
      "batch_normalization_13 (BatchNo (None, 42, 168, 144, 128         conv3d_15[0][0]                  \n",
      "__________________________________________________________________________________________________\n",
      "add_4 (Add)                     (None, 42, 168, 144, 0           batch_normalization_13[0][0]     \n",
      "                                                                 add_3[0][0]                      \n",
      "__________________________________________________________________________________________________\n",
      "conv3d_16 (Conv3D)              (None, 42, 168, 144, 27680       add_4[0][0]                      \n",
      "__________________________________________________________________________________________________\n",
      "batch_normalization_14 (BatchNo (None, 42, 168, 144, 128         conv3d_16[0][0]                  \n",
      "__________________________________________________________________________________________________\n",
      "add_5 (Add)                     (None, 42, 168, 144, 0           batch_normalization_14[0][0]     \n",
      "                                                                 activation_1[0][0]               \n",
      "__________________________________________________________________________________________________\n",
      "up_sampling3d_1 (UpSampling3D)  (None, 84, 168, 144, 0           add_5[0][0]                      \n",
      "__________________________________________________________________________________________________\n",
      "conv3d_17 (Conv3D)              (None, 84, 168, 144, 27680       up_sampling3d_1[0][0]            \n",
      "__________________________________________________________________________________________________\n",
      "activation_6 (Activation)       (None, 84, 168, 144, 0           conv3d_17[0][0]                  \n",
      "__________________________________________________________________________________________________\n",
      "up_sampling3d_2 (UpSampling3D)  (None, 168, 168, 144 0           activation_6[0][0]               \n",
      "__________________________________________________________________________________________________\n",
      "conv3d_18 (Conv3D)              (None, 168, 168, 144 27680       up_sampling3d_2[0][0]            \n",
      "__________________________________________________________________________________________________\n",
      "activation_7 (Activation)       (None, 168, 168, 144 0           conv3d_18[0][0]                  \n",
      "__________________________________________________________________________________________________\n",
      "conv3d_19 (Conv3D)              (None, 168, 168, 144 23329       activation_7[0][0]               \n",
      "==================================================================================================\n",
      "Total params: 352,321\n",
      "Trainable params: 351,745\n",
      "Non-trainable params: 576\n",
      "__________________________________________________________________________________________________\n"
     ]
    }
   ],
   "source": [
    "gan.generator.summary()"
   ]
  },
  {
   "cell_type": "code",
   "execution_count": 5,
   "metadata": {},
   "outputs": [
    {
     "name": "stderr",
     "output_type": "stream",
     "text": [
      "/usr/local/lib/python3.6/dist-packages/keras/engine/training.py:479: UserWarning: Discrepancy between trainable weights and collected trainable weights, did you set `model.trainable` without calling `model.compile` after ?\n",
      "  'Discrepancy between trainable weights and collected trainable'\n"
     ]
    },
    {
     "name": "stdout",
     "output_type": "stream",
     "text": [
      "0 time:0:01:00.892662 d_loss:0.282060 d_acc:0.488095 g_loss:0.948259\n",
      "1 time:0:01:13.861238 d_loss:0.272960 d_acc:0.596372 g_loss:0.883808\n",
      "2 time:0:01:26.930970 d_loss:0.263537 d_acc:0.591774 g_loss:0.692117\n",
      "3 time:0:01:39.698441 d_loss:0.213416 d_acc:0.778849 g_loss:0.628810\n",
      "4 time:0:01:52.824671 d_loss:0.183990 d_acc:0.817901 g_loss:0.537016\n",
      "5 time:0:02:05.806628 d_loss:0.155230 d_acc:0.868040 g_loss:0.432309\n",
      "6 time:0:02:18.945608 d_loss:0.152241 d_acc:0.849080 g_loss:0.390424\n",
      "7 time:0:02:31.895124 d_loss:0.116703 d_acc:0.921832 g_loss:0.342682\n",
      "8 time:0:02:45.085788 d_loss:0.118835 d_acc:0.904447 g_loss:0.305075\n",
      "9 time:0:02:57.916370 d_loss:0.090713 d_acc:0.975687 g_loss:0.291401\n"
     ]
    }
   ],
   "source": [
    "gan.train(trainset_path, epochs=10, batch_size=1, sample_interval=200)"
   ]
  },
  {
   "cell_type": "code",
   "execution_count": 16,
   "metadata": {},
   "outputs": [
    {
     "ename": "NameError",
     "evalue": "name 'faker_hr' is not defined",
     "output_type": "error",
     "traceback": [
      "\u001b[0;31m---------------------------------------------------------------------------\u001b[0m",
      "\u001b[0;31mNameError\u001b[0m                                 Traceback (most recent call last)",
      "\u001b[0;32m<ipython-input-16-97c0695f78be>\u001b[0m in \u001b[0;36m<module>\u001b[0;34m()\u001b[0m\n\u001b[1;32m      9\u001b[0m     \u001b[0;32mreturn\u001b[0m \u001b[0mdata_loader\u001b[0m\u001b[0;34m.\u001b[0m\u001b[0mshow_slices\u001b[0m\u001b[0;34m(\u001b[0m\u001b[0;34m[\u001b[0m\u001b[0mslice0\u001b[0m\u001b[0;34m,\u001b[0m \u001b[0mslice1\u001b[0m\u001b[0;34m,\u001b[0m \u001b[0mslice2\u001b[0m\u001b[0;34m]\u001b[0m\u001b[0;34m,\u001b[0m \u001b[0mtitle\u001b[0m\u001b[0;34m)\u001b[0m\u001b[0;34m\u001b[0m\u001b[0m\n\u001b[1;32m     10\u001b[0m \u001b[0mgan\u001b[0m\u001b[0;34m.\u001b[0m\u001b[0mshow_img\u001b[0m \u001b[0;34m=\u001b[0m \u001b[0mshow_img\u001b[0m\u001b[0;34m\u001b[0m\u001b[0m\n\u001b[0;32m---> 11\u001b[0;31m \u001b[0mgan\u001b[0m\u001b[0;34m.\u001b[0m\u001b[0msample_images\u001b[0m\u001b[0;34m(\u001b[0m\u001b[0mdataset_path\u001b[0m\u001b[0;34m=\u001b[0m\u001b[0mtrainset_path\u001b[0m\u001b[0;34m,\u001b[0m \u001b[0mepoch\u001b[0m\u001b[0;34m=\u001b[0m\u001b[0;36m0\u001b[0m\u001b[0;34m)\u001b[0m\u001b[0;34m\u001b[0m\u001b[0m\n\u001b[0m",
      "\u001b[0;32m~/Desktop/Completion/srgan_3d.py\u001b[0m in \u001b[0;36msample_images\u001b[0;34m(self, dataset_path, epoch)\u001b[0m\n\u001b[1;32m    216\u001b[0m         \u001b[0mfig\u001b[0m\u001b[0;34m.\u001b[0m\u001b[0msavefig\u001b[0m\u001b[0;34m(\u001b[0m\u001b[0;34m\"./sample_images/generated_hs_%s_epoch_%d.png\"\u001b[0m \u001b[0;34m%\u001b[0m \u001b[0;34m(\u001b[0m\u001b[0mname\u001b[0m\u001b[0;34m,\u001b[0m \u001b[0mepoch\u001b[0m\u001b[0;34m)\u001b[0m\u001b[0;34m)\u001b[0m\u001b[0;34m\u001b[0m\u001b[0m\n\u001b[1;32m    217\u001b[0m         \u001b[0mplt\u001b[0m\u001b[0;34m.\u001b[0m\u001b[0mclose\u001b[0m\u001b[0;34m(\u001b[0m\u001b[0;34m)\u001b[0m\u001b[0;34m\u001b[0m\u001b[0m\n\u001b[0;32m--> 218\u001b[0;31m         \u001b[0msave_nii_to_file\u001b[0m\u001b[0;34m(\u001b[0m\u001b[0;34m\"generated_res_%s_epoch_%d.nii\"\u001b[0m \u001b[0;34m%\u001b[0m \u001b[0;34m(\u001b[0m\u001b[0mname\u001b[0m\u001b[0;34m,\u001b[0m \u001b[0mepoch\u001b[0m\u001b[0;34m)\u001b[0m\u001b[0;34m,\u001b[0m \u001b[0mfaker_hr\u001b[0m\u001b[0;34m,\u001b[0m \u001b[0mimg_info\u001b[0m\u001b[0;34m,\u001b[0m \u001b[0mimg_shape\u001b[0m\u001b[0;34m)\u001b[0m\u001b[0;34m\u001b[0m\u001b[0m\n\u001b[0m\u001b[1;32m    219\u001b[0m \u001b[0;34m\u001b[0m\u001b[0m\n\u001b[1;32m    220\u001b[0m         \u001b[0;31m# Save ground truth\u001b[0m\u001b[0;34m\u001b[0m\u001b[0;34m\u001b[0m\u001b[0m\n",
      "\u001b[0;31mNameError\u001b[0m: name 'faker_hr' is not defined"
     ]
    }
   ],
   "source": [
    "def show_img(epi_img_data_stand, title=''):\n",
    "    if (len(epi_img_data_stand.shape) == 5):\n",
    "        epi_img_data_stand = epi_img_data_stand[0]\n",
    "    x, y, z,_ = epi_img_data_stand.shape\n",
    "    epi_img_data_stand = np.reshape(epi_img_data_stand,(x,y,z))\n",
    "    slice0 = epi_img_data_stand[x//2,:,:]\n",
    "    slice1 = epi_img_data_stand[:,y//2,:]\n",
    "    slice2 = epi_img_data_stand[:,:,z//2]\n",
    "    return data_loader.show_slices([slice0, slice1, slice2], title)\n",
    "gan.show_img = show_img\n",
    "gan.sample_images(dataset_path=trainset_path, epoch=0)"
   ]
  },
  {
   "cell_type": "code",
   "execution_count": null,
   "metadata": {},
   "outputs": [],
   "source": []
  },
  {
   "cell_type": "code",
   "execution_count": null,
   "metadata": {},
   "outputs": [],
   "source": []
  },
  {
   "cell_type": "code",
   "execution_count": null,
   "metadata": {},
   "outputs": [],
   "source": [
    "#{(192, 192, 160): 1036, (256, 256, 180): 294, (256, 256, 166): 1046, (256, 256, 170): 298, (256, 256, 184): 56, (256, 256, 162): 2, (256, 256, 146): 1, (256, 256, 165): 1, (256, 256, 124): 1, (256, 256, 161): 3, (256, 256, 150): 3}"
   ]
  }
 ],
 "metadata": {
  "kernelspec": {
   "display_name": "Python 3",
   "language": "python",
   "name": "python3"
  },
  "language_info": {
   "codemirror_mode": {
    "name": "ipython",
    "version": 3
   },
   "file_extension": ".py",
   "mimetype": "text/x-python",
   "name": "python",
   "nbconvert_exporter": "python",
   "pygments_lexer": "ipython3",
   "version": "3.6.3"
  }
 },
 "nbformat": 4,
 "nbformat_minor": 2
}
