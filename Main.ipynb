{
 "cells": [
  {
   "cell_type": "code",
   "execution_count": 1,
   "metadata": {},
   "outputs": [
    {
     "name": "stderr",
     "output_type": "stream",
     "text": [
      "Using TensorFlow backend.\n"
     ]
    }
   ],
   "source": [
    "%load_ext autoreload\n",
    "%autoreload 2\n",
    "import os\n",
    "import sys\n",
    "import nibabel as nib\n",
    "import numpy as np\n",
    "from get_min_max_voxel import summary\n",
    "from glob import glob\n",
    "from srgan_3d_vgg import SRGAN\n",
    "import data_loader\n",
    "from data_loader import DataLoader, test_preprocessing, show_slices, clear_samples\n",
    "from brain_class import BrainClass"
   ]
  },
  {
   "cell_type": "code",
   "execution_count": 2,
   "metadata": {},
   "outputs": [],
   "source": [
    "trainset_path = \"trainset/**/*.nii\"\n",
    "testset_path = \"testset/**/*.nii\"\n",
    "#H_R = (168, 168, 144, 1)\n",
    "#L_R = (42, 168, 144, 1)\n",
    "H_R = (128, 128, 110, 1)\n",
    "L_R = (32, 128, 110, 1)"
   ]
  },
  {
   "cell_type": "code",
   "execution_count": 3,
   "metadata": {},
   "outputs": [
    {
     "name": "stdout",
     "output_type": "stream",
     "text": [
      "number of images in trainset 2722\n"
     ]
    }
   ],
   "source": [
    "# brain classification \n",
    "bc = BrainClass(lr=L_R, hr=H_R, classes=4)\n",
    "n = bc.data_loader.get_file_count(trainset_path)\n",
    "print(\"number of images in trainset\", n)\n",
    "bc.load_model()"
   ]
  },
  {
   "cell_type": "code",
   "execution_count": 4,
   "metadata": {},
   "outputs": [],
   "source": [
    "#bc.train(trainset_path, epochs=10000, batch_size=1) "
   ]
  },
  {
   "cell_type": "code",
   "execution_count": 5,
   "metadata": {},
   "outputs": [],
   "source": [
    "#bc.vgg.summary()"
   ]
  },
  {
   "cell_type": "code",
   "execution_count": 6,
   "metadata": {
    "scrolled": false
   },
   "outputs": [
    {
     "name": "stdout",
     "output_type": "stream",
     "text": [
      "number of images in trainset 2722\n"
     ]
    }
   ],
   "source": [
    "gan = SRGAN(lr=L_R, hr=H_R, n_residual_blocks=10, gpus=1, vgg19=bc.vgg, loss_weights=[1, 2500, 2500, 2500, 2500, 25])\n",
    "n = gan.data_loader.get_file_count(trainset_path)\n",
    "print(\"number of images in trainset\", n)"
   ]
  },
  {
   "cell_type": "code",
   "execution_count": 7,
   "metadata": {
    "scrolled": true
   },
   "outputs": [],
   "source": [
    "#gan.combined.summary()\n",
    "#gan.free_memory()\n",
    "gan.load_model()"
   ]
  },
  {
   "cell_type": "code",
   "execution_count": null,
   "metadata": {
    "scrolled": false
   },
   "outputs": [],
   "source": [
    "%autosave 100\n",
    "epochs=2\n",
    "num_g_per_d=3\n",
    "gan.train(trainset_path, iterations=n*epochs, batch_size=1, \n",
    "          sample_interval=200*num_g_per_d, save_interval=20*num_g_per_d, num_g_per_d=num_g_per_d)"
   ]
  },
  {
   "cell_type": "code",
   "execution_count": null,
   "metadata": {},
   "outputs": [],
   "source": [
    "gan.save_model()"
   ]
  },
  {
   "cell_type": "raw",
   "metadata": {},
   "source": [
    "#gan.sample_images(dataset_path=trainset_path, iteration=0)"
   ]
  },
  {
   "cell_type": "code",
   "execution_count": null,
   "metadata": {},
   "outputs": [],
   "source": []
  },
  {
   "cell_type": "code",
   "execution_count": null,
   "metadata": {},
   "outputs": [],
   "source": []
  },
  {
   "cell_type": "code",
   "execution_count": null,
   "metadata": {},
   "outputs": [],
   "source": []
  },
  {
   "cell_type": "code",
   "execution_count": null,
   "metadata": {},
   "outputs": [],
   "source": []
  },
  {
   "cell_type": "code",
   "execution_count": null,
   "metadata": {},
   "outputs": [],
   "source": []
  },
  {
   "cell_type": "code",
   "execution_count": null,
   "metadata": {},
   "outputs": [],
   "source": []
  },
  {
   "cell_type": "code",
   "execution_count": null,
   "metadata": {},
   "outputs": [],
   "source": []
  },
  {
   "cell_type": "code",
   "execution_count": null,
   "metadata": {},
   "outputs": [],
   "source": []
  },
  {
   "cell_type": "code",
   "execution_count": null,
   "metadata": {},
   "outputs": [],
   "source": []
  },
  {
   "cell_type": "code",
   "execution_count": null,
   "metadata": {},
   "outputs": [],
   "source": []
  },
  {
   "cell_type": "code",
   "execution_count": null,
   "metadata": {},
   "outputs": [],
   "source": []
  },
  {
   "cell_type": "code",
   "execution_count": null,
   "metadata": {},
   "outputs": [],
   "source": []
  },
  {
   "cell_type": "code",
   "execution_count": null,
   "metadata": {},
   "outputs": [],
   "source": []
  },
  {
   "cell_type": "code",
   "execution_count": null,
   "metadata": {},
   "outputs": [],
   "source": []
  },
  {
   "cell_type": "code",
   "execution_count": null,
   "metadata": {},
   "outputs": [],
   "source": [
    "#{(192, 192, 160): 1036, (256, 256, 180): 294, (256, 256, 166): 1046, (256, 256, 170): 298, (256, 256, 184): 56, (256, 256, 162): 2, (256, 256, 146): 1, (256, 256, 165): 1, (256, 256, 124): 1, (256, 256, 161): 3, (256, 256, 150): 3}"
   ]
  }
 ],
 "metadata": {
  "kernelspec": {
   "display_name": "Python 3",
   "language": "python",
   "name": "python3"
  },
  "language_info": {
   "codemirror_mode": {
    "name": "ipython",
    "version": 3
   },
   "file_extension": ".py",
   "mimetype": "text/x-python",
   "name": "python",
   "nbconvert_exporter": "python",
   "pygments_lexer": "ipython3",
   "version": "3.6.3"
  }
 },
 "nbformat": 4,
 "nbformat_minor": 2
}
